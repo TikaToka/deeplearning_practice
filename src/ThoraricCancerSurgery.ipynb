{
  "nbformat": 4,
  "nbformat_minor": 0,
  "metadata": {
    "colab": {
      "name": "Untitled11.ipynb",
      "private_outputs": true,
      "provenance": [],
      "authorship_tag": "ABX9TyOz0SGmaZ18U899Pvy5+Gcx"
    },
    "kernelspec": {
      "name": "python3",
      "display_name": "Python 3"
    },
    "language_info": {
      "name": "python"
    }
  },
  "cells": [
    {
      "cell_type": "markdown",
      "metadata": {
        "id": "_Zsl_rZVLDn7"
      },
      "source": [
        "# 폐암 수술 환자 생존율 예측 Using Keras"
      ]
    },
    {
      "cell_type": "code",
      "metadata": {
        "id": "-1vB3v7A9c0P"
      },
      "source": [
        "from tensorflow.keras.models import Sequential\n",
        "from tensorflow.keras.layers import Dense"
      ],
      "execution_count": null,
      "outputs": []
    },
    {
      "cell_type": "code",
      "metadata": {
        "id": "MNALe2jm9jmz"
      },
      "source": [
        "import numpy as np\n",
        "import tensorflow as tf"
      ],
      "execution_count": null,
      "outputs": []
    },
    {
      "cell_type": "code",
      "metadata": {
        "id": "0eENojbF9lq5"
      },
      "source": [
        "np.random.seed(3)\n",
        "tf.random.set_seed(3)"
      ],
      "execution_count": null,
      "outputs": []
    },
    {
      "cell_type": "code",
      "metadata": {
        "id": "mmWoSxXS9qVe"
      },
      "source": [
        "Dataset = np.loadtxt(\"/content/ThoraricSurgery.csv\", delimiter=',')\n",
        "\n",
        "X = Dataset[:, 0:17] #17개의 Features\n",
        "y = Dataset[:, 17] # 0/1로 생존 여부 구분\n"
      ],
      "execution_count": null,
      "outputs": []
    },
    {
      "cell_type": "code",
      "metadata": {
        "id": "MuP1J4Qb-J9a"
      },
      "source": [
        "model = Sequential()\n",
        "model.add(Dense(30, input_dim=17, activation='relu')) # 17개의 Feature를 가지고 있으므로 input 17\n",
        "model.add(Dense(1, activation='sigmoid')) #최종으로 0이냐 1이냐 구분하므로 Output 차원은 1"
      ],
      "execution_count": null,
      "outputs": []
    },
    {
      "cell_type": "code",
      "metadata": {
        "id": "GBawuPNt-MgM"
      },
      "source": [
        "model.compile(loss='binary_crossentropy', optimizer='adam', metrics=['accuracy']) # 모델의 Setting\n",
        "model.fit(X, y, epochs=100, batch_size=10) # 학습"
      ],
      "execution_count": null,
      "outputs": []
    },
    {
      "cell_type": "code",
      "metadata": {
        "id": "26vTb8qk-Wci"
      },
      "source": [
        "print(\"\\n Accuracy: %.4f\" % (model.evaluate(X, y)[1]))"
      ],
      "execution_count": null,
      "outputs": []
    },
    {
      "cell_type": "code",
      "metadata": {
        "id": "7JA9vm0c-gfo"
      },
      "source": [
        "    "
      ],
      "execution_count": null,
      "outputs": []
    }
  ]
}